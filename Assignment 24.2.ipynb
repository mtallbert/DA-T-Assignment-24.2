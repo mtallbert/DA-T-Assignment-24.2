{
 "cells": [
  {
   "cell_type": "markdown",
   "metadata": {},
   "source": [
    "Implement a function longestWord() that takes a list of words and returns the longest one."
   ]
  },
  {
   "cell_type": "code",
   "execution_count": 1,
   "metadata": {},
   "outputs": [
    {
     "name": "stdout",
     "output_type": "stream",
     "text": [
      "Enter a list of words:My son's second name is Zwelolwenkosi\n",
      "The longest word entered is: Zwelolwenkosi\n"
     ]
    }
   ],
   "source": [
    "def longest_word(mylist):\n",
    "    long = 0\n",
    "    for words in mylist.split():\n",
    "            if len(words) > long:\n",
    "                long=len(words)\n",
    "                longest_word = words\n",
    "    return longest_word\n",
    "   \n",
    "MyWords=input(\"Enter a list of words:\")\n",
    "longest_word=longest_word(MyWords)\n",
    "print(\"The longest word entered is:\",longest_word)"
   ]
  },
  {
   "cell_type": "code",
   "execution_count": null,
   "metadata": {},
   "outputs": [],
   "source": []
  }
 ],
 "metadata": {
  "kernelspec": {
   "display_name": "Python 3",
   "language": "python",
   "name": "python3"
  },
  "language_info": {
   "codemirror_mode": {
    "name": "ipython",
    "version": 3
   },
   "file_extension": ".py",
   "mimetype": "text/x-python",
   "name": "python",
   "nbconvert_exporter": "python",
   "pygments_lexer": "ipython3",
   "version": "3.7.0"
  }
 },
 "nbformat": 4,
 "nbformat_minor": 2
}
